{
 "cells": [
  {
   "cell_type": "code",
   "execution_count": 99,
   "id": "2f30b030-770f-4de0-a2b9-759032f45ffc",
   "metadata": {},
   "outputs": [],
   "source": [
    "import requests\n",
    "import bs4\n",
    "import js2py\n",
    "from IPython.display import JSON"
   ]
  },
  {
   "cell_type": "code",
   "execution_count": 83,
   "id": "70eea916-3a21-4000-90d4-2d337591abcf",
   "metadata": {
    "collapsed": true,
    "jupyter": {
     "outputs_hidden": true
    },
    "tags": []
   },
   "outputs": [
    {
     "name": "stdout",
     "output_type": "stream",
     "text": [
      "Collecting v8py\n",
      "  Downloading v8py-0.9.15.tar.gz (45 kB)\n",
      "  Preparing metadata (setup.py): started\n",
      "  Preparing metadata (setup.py): finished with status 'done'\n",
      "Building wheels for collected packages: v8py\n",
      "  Building wheel for v8py (setup.py): started\n",
      "  Building wheel for v8py (setup.py): still running...\n",
      "  Building wheel for v8py (setup.py): still running...\n",
      "  Building wheel for v8py (setup.py): still running...\n",
      "  Building wheel for v8py (setup.py): finished with status 'error'\n",
      "  Running setup.py clean for v8py\n",
      "Failed to build v8py\n",
      "Installing collected packages: v8py\n",
      "    Running setup.py install for v8py: started\n",
      "    Running setup.py install for v8py: finished with status 'error'\n"
     ]
    },
    {
     "name": "stderr",
     "output_type": "stream",
     "text": [
      "  ERROR: Command errored out with exit status 1:\n",
      "   command: 'C:\\Users\\Zac\\AppData\\Local\\Programs\\Python\\Python38\\python.exe' -u -c 'import io, os, sys, setuptools, tokenize; sys.argv[0] = '\"'\"'C:\\\\Users\\\\Zac\\\\AppData\\\\Local\\\\Temp\\\\pip-install-zfob__gt\\\\v8py_b9ea4bafbc054be3b56e4e87075398e6\\\\setup.py'\"'\"'; __file__='\"'\"'C:\\\\Users\\\\Zac\\\\AppData\\\\Local\\\\Temp\\\\pip-install-zfob__gt\\\\v8py_b9ea4bafbc054be3b56e4e87075398e6\\\\setup.py'\"'\"';f = getattr(tokenize, '\"'\"'open'\"'\"', open)(__file__) if os.path.exists(__file__) else io.StringIO('\"'\"'from setuptools import setup; setup()'\"'\"');code = f.read().replace('\"'\"'\\r\\n'\"'\"', '\"'\"'\\n'\"'\"');f.close();exec(compile(code, __file__, '\"'\"'exec'\"'\"'))' bdist_wheel -d 'C:\\Users\\Zac\\AppData\\Local\\Temp\\pip-wheel-m8jz2k0c'\n",
      "       cwd: C:\\Users\\Zac\\AppData\\Local\\Temp\\pip-install-zfob__gt\\v8py_b9ea4bafbc054be3b56e4e87075398e6\\\n",
      "  Complete output (471 lines):\n",
      "  running bdist_wheel\n",
      "  running build\n",
      "  running build_py\n",
      "  creating build\n",
      "  creating build\\lib.win-amd64-3.8\n",
      "  creating build\\lib.win-amd64-3.8\\v8py\n",
      "  copying v8py\\debug.py -> build\\lib.win-amd64-3.8\\v8py\n",
      "  copying v8py\\devtools.py -> build\\lib.win-amd64-3.8\\v8py\n",
      "  copying v8py\\__init__.py -> build\\lib.win-amd64-3.8\\v8py\n",
      "  running build_ext\n",
      "  running build_v8\n",
      "  Cloning into 'depot_tools'...\n",
      "  Updating depot_tools...\n",
      "  Downloading CIPD client for windows-amd64 from https://chrome-infra-packages.appspot.com/client?platform=windows-amd64&version=git_revision:673f5ee1931bc72a2b3d4ac712a7f7bc541f089b...\n",
      "  WARNING: Your metrics.cfg file was invalid or nonexistent. A new one will be created.\n",
      "  1>________ running 'git -c core.deltaBaseCacheLimit=2g clone --no-checkout --progress https://chromium.googlesource.com/v8/v8.git C:\\Users\\Zac\\AppData\\Local\\Temp\\pip-install-zfob__gt\\v8py_b9ea4bafbc054be3b56e4e87075398e6\\_gclient_v8__iqvabso' in 'C:\\Users\\Zac\\AppData\\Local\\Temp\\pip-install-zfob__gt\\v8py_b9ea4bafbc054be3b56e4e87075398e6'\n",
      "  1>Cloning into 'C:\\Users\\Zac\\AppData\\Local\\Temp\\pip-install-zfob__gt\\v8py_b9ea4bafbc054be3b56e4e87075398e6\\_gclient_v8__iqvabso'...\n",
      "  1>remote: Sending approximately 792.24 MiB ...Counting objects: 1\n",
      "  1>remote: Finding sources:   6% (1/16)\n",
      "  1>remote: Finding sources:  12% (2/16)\n",
      "  1>remote: Finding sources:  18% (3/16)\n",
      "  1>remote: Finding sources:  25% (4/16)\n",
      "  1>remote: Finding sources:  31% (5/16)\n",
      "  1>remote: Finding sources:  37% (6/16)\n",
      "  1>remote: Finding sources:  43% (7/16)\n",
      "  1>remote: Finding sources:  50% (8/16)\n",
      "  1>remote: Finding sources:  56% (9/16)\n",
      "  1>remote: Finding sources:  62% (10/16)\n",
      "  1>remote: Finding sources:  68% (11/16)\n",
      "  1>remote: Finding sources:  75% (12/16)\n",
      "  1>remote: Finding sources:  81% (13/16)\n",
      "  1>remote: Finding sources:  87% (14/16)\n",
      "  1>remote: Finding sources:  93% (15/16)\n",
      "  1>remote: Finding sources: 100% (16/16)\n",
      "  1>remote: Finding sources: 100% (16/16)\n",
      "  1>Receiving objects:   0% (1/932509)\n",
      "  1>Receiving objects:   1% (9326/932509)\n",
      "  1>Receiving objects:   2% (18651/932509), 4.88 MiB | 5.18 MiB/s\n",
      "  1>Receiving objects:   2% (20121/932509), 4.88 MiB | 5.18 MiB/s\n",
      "  1>Receiving objects:   3% (27976/932509), 10.13 MiB | 6.90 MiB/s\n",
      "  1>Receiving objects:   4% (37301/932509), 10.13 MiB | 6.90 MiB/s\n",
      "  1>Receiving objects:   5% (46626/932509), 10.13 MiB | 6.90 MiB/s\n",
      "  1>Receiving objects:   5% (49231/932509), 21.12 MiB | 10.73 MiB/s\n",
      "  1>Receiving objects:   6% (55951/932509), 21.12 MiB | 10.73 MiB/s\n",
      "  1>Receiving objects:   7% (65276/932509), 27.50 MiB | 11.13 MiB/s\n",
      "  1>Receiving objects:   8% (74601/932509), 27.50 MiB | 11.13 MiB/s\n",
      "  1>Receiving objects:   8% (81230/932509), 34.31 MiB | 11.56 MiB/s\n",
      "  1>Receiving objects:   9% (83926/932509), 34.31 MiB | 11.56 MiB/s\n",
      "  1>Receiving objects:  10% (93251/932509), 38.37 MiB | 11.01 MiB/s\n",
      "  1>Receiving objects:  11% (102576/932509), 38.37 MiB | 11.01 MiB/s\n",
      "  1>Receiving objects:  12% (111902/932509), 38.37 MiB | 11.01 MiB/s\n",
      "  1>Receiving objects:  12% (112211/932509), 49.61 MiB | 12.44 MiB/s\n",
      "  1>Receiving objects:  13% (121227/932509), 53.74 MiB | 11.66 MiB/s\n",
      "  1>Receiving objects:  14% (130552/932509), 53.74 MiB | 11.66 MiB/s\n",
      "  1>Receiving objects:  14% (130954/932509), 53.74 MiB | 11.66 MiB/s\n",
      "  1>Receiving objects:  15% (139877/932509), 65.30 MiB | 12.79 MiB/s\n",
      "  1>Receiving objects:  16% (149202/932509), 74.11 MiB | 14.82 MiB/s\n",
      "  1>Receiving objects:  16% (155669/932509), 74.11 MiB | 14.82 MiB/s\n",
      "  1>Receiving objects:  17% (158527/932509), 74.11 MiB | 14.82 MiB/s\n",
      "  1>Receiving objects:  18% (167852/932509), 82.88 MiB | 15.66 MiB/s\n",
      "  1>Receiving objects:  19% (177177/932509), 82.88 MiB | 15.66 MiB/s\n",
      "  1>Receiving objects:  20% (186502/932509), 90.47 MiB | 14.65 MiB/s\n",
      "  1>Receiving objects:  21% (195827/932509), 90.47 MiB | 14.65 MiB/s\n",
      "  1>Receiving objects:  22% (205152/932509), 90.47 MiB | 14.65 MiB/s\n",
      "  1>Receiving objects:  22% (206428/932509), 90.47 MiB | 14.65 MiB/s\n",
      "  1>Receiving objects:  23% (214478/932509), 90.47 MiB | 14.65 MiB/s\n",
      "  1>Receiving objects:  24% (223803/932509), 102.22 MiB | 15.78 MiB/s\n",
      "  1>Receiving objects:  25% (233128/932509), 102.22 MiB | 15.78 MiB/s\n",
      "  1>Receiving objects:  26% (242453/932509), 109.03 MiB | 15.67 MiB/s\n",
      "  1>Receiving objects:  27% (251778/932509), 109.03 MiB | 15.67 MiB/s\n",
      "  1>Receiving objects:  28% (261103/932509), 109.03 MiB | 15.67 MiB/s\n",
      "  1>Receiving objects:  28% (263133/932509), 109.03 MiB | 15.67 MiB/s\n",
      "  1>Receiving objects:  29% (270428/932509), 118.40 MiB | 16.61 MiB/s\n",
      "  1>Receiving objects:  30% (279753/932509), 118.40 MiB | 16.61 MiB/s\n",
      "  1>Receiving objects:  31% (289078/932509), 118.40 MiB | 16.61 MiB/s\n",
      "  1>Receiving objects:  31% (294829/932509), 129.59 MiB | 15.46 MiB/s\n",
      "  1>Receiving objects:  32% (298403/932509), 129.59 MiB | 15.46 MiB/s\n",
      "  1>Receiving objects:  33% (307728/932509), 129.59 MiB | 15.46 MiB/s\n",
      "  1>Receiving objects:  34% (317054/932509), 129.59 MiB | 15.46 MiB/s\n",
      "  1>Receiving objects:  35% (326379/932509), 129.59 MiB | 15.46 MiB/s\n",
      "  1>Receiving objects:  36% (335704/932509), 129.59 MiB | 15.46 MiB/s\n",
      "  1>Receiving objects:  37% (345029/932509), 129.59 MiB | 15.46 MiB/s\n",
      "  1>Receiving objects:  38% (354354/932509), 129.59 MiB | 15.46 MiB/s\n",
      "  1>Receiving objects:  39% (363679/932509), 129.59 MiB | 15.46 MiB/s\n",
      "  1>Receiving objects:  40% (373004/932509), 129.59 MiB | 15.46 MiB/s\n",
      "  1>Receiving objects:  41% (382329/932509), 129.59 MiB | 15.46 MiB/s\n",
      "  1>Receiving objects:  42% (391654/932509), 129.59 MiB | 15.46 MiB/s\n",
      "  1>Receiving objects:  43% (400979/932509), 142.96 MiB | 17.51 MiB/s\n",
      "  1>Receiving objects:  44% (410304/932509), 142.96 MiB | 17.51 MiB/s\n",
      "  1>Receiving objects:  45% (419630/932509), 142.96 MiB | 17.51 MiB/s\n",
      "  1>Receiving objects:  46% (428955/932509), 142.96 MiB | 17.51 MiB/s\n",
      "  1>Receiving objects:  47% (438280/932509), 142.96 MiB | 17.51 MiB/s\n",
      "  1>Receiving objects:  48% (447605/932509), 142.96 MiB | 17.51 MiB/s\n",
      "  1>Receiving objects:  48% (452823/932509), 142.96 MiB | 17.51 MiB/s\n",
      "  1>Receiving objects:  49% (456930/932509), 142.96 MiB | 17.51 MiB/s\n",
      "  1>Receiving objects:  50% (466255/932509), 142.96 MiB | 17.51 MiB/s\n",
      "  1>Receiving objects:  51% (475580/932509), 142.96 MiB | 17.51 MiB/s\n",
      "  1>Receiving objects:  52% (484905/932509), 142.96 MiB | 17.51 MiB/s\n",
      "  1>Receiving objects:  53% (494230/932509), 151.71 MiB | 16.96 MiB/s\n",
      "  1>Receiving objects:  54% (503555/932509), 151.71 MiB | 16.96 MiB/s\n",
      "  1>Receiving objects:  55% (512880/932509), 151.71 MiB | 16.96 MiB/s\n",
      "  1>Receiving objects:  55% (519383/932509), 159.20 MiB | 16.37 MiB/s\n",
      "  1>Receiving objects:  55% (522163/932509), 167.64 MiB | 15.39 MiB/s\n",
      "  1>Receiving objects:  56% (522206/932509), 167.64 MiB | 15.39 MiB/s\n",
      "  1>Receiving objects:  57% (531531/932509), 176.45 MiB | 15.85 MiB/s\n",
      "  1>Receiving objects:  57% (537417/932509), 189.13 MiB | 16.03 MiB/s\n",
      "  1>Receiving objects:  57% (540274/932509), 203.50 MiB | 15.84 MiB/s\n",
      "  1>Receiving objects:  58% (540856/932509), 203.50 MiB | 15.84 MiB/s\n",
      "  1>Receiving objects:  58% (544902/932509), 223.93 MiB | 15.67 MiB/s\n",
      "  1>Receiving objects:  58% (548964/932509), 234.05 MiB | 15.47 MiB/s\n",
      "  1>Receiving objects:  59% (550181/932509), 248.61 MiB | 16.27 MiB/s\n",
      "  1>Receiving objects:  59% (551075/932509), 248.61 MiB | 16.27 MiB/s\n",
      "  1>Receiving objects:  59% (555066/932509), 269.61 MiB | 14.42 MiB/s\n",
      "  1>Receiving objects:  60% (559506/932509), 280.85 MiB | 15.06 MiB/s\n",
      "  1>Receiving objects:  60% (560370/932509), 280.85 MiB | 15.06 MiB/s\n",
      "  1>Receiving objects:  60% (563082/932509), 297.47 MiB | 14.60 MiB/s\n",
      "  1>Receiving objects:  60% (566783/932509), 314.15 MiB | 13.68 MiB/s\n",
      "  1>Receiving objects:  61% (568831/932509), 314.15 MiB | 13.68 MiB/s\n",
      "  1>Receiving objects:  61% (570865/932509), 324.71 MiB | 14.99 MiB/s\n",
      "  1>Receiving objects:  61% (576433/932509), 345.21 MiB | 16.72 MiB/s\n",
      "  1>Receiving objects:  62% (578156/932509), 353.62 MiB | 16.61 MiB/s\n",
      "  1>Receiving objects:  62% (580504/932509), 362.51 MiB | 16.81 MiB/s\n",
      "  1>Receiving objects:  62% (583885/932509), 379.57 MiB | 17.23 MiB/s\n",
      "  1>Receiving objects:  63% (587481/932509), 393.52 MiB | 17.00 MiB/s\n",
      "  1>Receiving objects:  63% (588294/932509), 393.52 MiB | 17.00 MiB/s\n",
      "  1>Receiving objects:  63% (594902/932509), 411.01 MiB | 16.50 MiB/s\n",
      "  1>Receiving objects:  64% (596806/932509), 420.12 MiB | 16.64 MiB/s\n",
      "  1>Receiving objects:  64% (599665/932509), 426.37 MiB | 15.62 MiB/s\n",
      "  1>Receiving objects:  65% (606131/932509), 432.99 MiB | 15.09 MiB/s\n",
      "  1>Receiving objects:  65% (606497/932509), 440.36 MiB | 14.71 MiB/s\n",
      "  1>Receiving objects:  65% (612494/932509), 453.98 MiB | 13.91 MiB/s\n",
      "  1>Receiving objects:  66% (615456/932509), 453.98 MiB | 13.91 MiB/s\n",
      "  1>Receiving objects:  66% (618638/932509), 471.02 MiB | 15.18 MiB/s\n",
      "  1>Receiving objects:  67% (624782/932509), 479.66 MiB | 14.44 MiB/s\n",
      "  1>Receiving objects:  67% (625160/932509), 488.39 MiB | 14.37 MiB/s\n",
      "  1>Receiving objects:  67% (631186/932509), 504.34 MiB | 15.16 MiB/s\n",
      "  1>Receiving objects:  68% (634107/932509), 504.34 MiB | 15.16 MiB/s\n",
      "  1>Receiving objects:  68% (638229/932509), 513.46 MiB | 14.59 MiB/s\n",
      "  1>Receiving objects:  69% (643432/932509), 526.84 MiB | 14.72 MiB/s\n",
      "  1>Receiving objects:  69% (646521/932509), 526.84 MiB | 14.72 MiB/s\n",
      "  1>Receiving objects:  70% (652757/932509), 545.95 MiB | 15.08 MiB/s\n",
      "  1>Receiving objects:  70% (654793/932509), 545.95 MiB | 15.08 MiB/s\n",
      "  1>Receiving objects:  70% (659585/932509), 561.20 MiB | 15.01 MiB/s\n",
      "  1>Receiving objects:  71% (662082/932509), 561.20 MiB | 15.01 MiB/s\n",
      "  1>Receiving objects:  71% (665335/932509), 572.88 MiB | 13.76 MiB/s\n",
      "  1>Receiving objects:  71% (670252/932509), 588.50 MiB | 14.93 MiB/s\n",
      "  1>Receiving objects:  72% (671407/932509), 588.50 MiB | 14.93 MiB/s\n",
      "  1>Receiving objects:  72% (675286/932509), 605.75 MiB | 13.68 MiB/s\n",
      "  1>Receiving objects:  73% (680732/932509), 614.93 MiB | 14.60 MiB/s\n",
      "  1>Receiving objects:  73% (682252/932509), 614.93 MiB | 14.60 MiB/s\n",
      "  1>Receiving objects:  73% (686100/932509), 627.49 MiB | 14.23 MiB/s\n",
      "  1>Receiving objects:  74% (690057/932509), 646.48 MiB | 16.03 MiB/s\n",
      "  1>Receiving objects:  74% (692314/932509), 646.48 MiB | 16.03 MiB/s\n",
      "  1>Receiving objects:  74% (698916/932509), 663.27 MiB | 16.35 MiB/s\n",
      "  1>Receiving objects:  75% (699382/932509), 671.41 MiB | 15.56 MiB/s\n",
      "  1>Receiving objects:  75% (704613/932509), 685.22 MiB | 15.39 MiB/s\n",
      "  1>Receiving objects:  76% (708707/932509), 685.22 MiB | 15.39 MiB/s\n",
      "  1>Receiving objects:  76% (710908/932509), 697.84 MiB | 14.46 MiB/s\n",
      "  1>Receiving objects:  76% (715398/932509), 708.90 MiB | 14.15 MiB/s\n",
      "  1>Receiving objects:  77% (718032/932509), 717.46 MiB | 14.20 MiB/s\n",
      "  1>Receiving objects:  77% (718471/932509), 724.02 MiB | 13.57 MiB/s\n",
      "  1>Receiving objects:  77% (724937/932509), 732.08 MiB | 13.37 MiB/s\n",
      "  1>Receiving objects:  78% (727358/932509), 742.45 MiB | 13.80 MiB/s\n",
      "  1>Receiving objects:  79% (736683/932509), 751.01 MiB | 13.80 MiB/s\n",
      "  1>Receiving objects:  80% (746008/932509), 751.01 MiB | 13.80 MiB/s\n",
      "  1>Receiving objects:  81% (755333/932509), 751.01 MiB | 13.80 MiB/s\n",
      "  1>Receiving objects:  81% (761883/932509), 751.01 MiB | 13.80 MiB/s\n",
      "  1>Receiving objects:  82% (764658/932509), 751.01 MiB | 13.80 MiB/s\n",
      "  1>Receiving objects:  83% (773983/932509), 751.01 MiB | 13.80 MiB/s\n",
      "  1>Receiving objects:  84% (783308/932509), 759.51 MiB | 14.61 MiB/s\n",
      "  1>Receiving objects:  85% (792633/932509), 759.51 MiB | 14.61 MiB/s\n",
      "  1>Receiving objects:  86% (801958/932509), 759.51 MiB | 14.61 MiB/s\n",
      "  1>Receiving objects:  87% (811283/932509), 759.51 MiB | 14.61 MiB/s\n",
      "  1>Receiving objects:  88% (820608/932509), 765.07 MiB | 13.66 MiB/s\n",
      "  1>Receiving objects:  89% (829934/932509), 765.07 MiB | 13.66 MiB/s\n",
      "  1>Receiving objects:  89% (836460/932509), 765.07 MiB | 13.66 MiB/s\n",
      "  1>Receiving objects:  90% (839259/932509), 765.07 MiB | 13.66 MiB/s\n",
      "  1>Receiving objects:  91% (848584/932509), 765.07 MiB | 13.66 MiB/s\n",
      "  1>Receiving objects:  92% (857909/932509), 775.87 MiB | 16.03 MiB/s\n",
      "  1>Receiving objects:  93% (867234/932509), 775.87 MiB | 16.03 MiB/s\n",
      "  1>Receiving objects:  94% (876559/932509), 775.87 MiB | 16.03 MiB/s\n",
      "  1>Receiving objects:  95% (885884/932509), 775.87 MiB | 16.03 MiB/s\n",
      "  1>Receiving objects:  96% (895209/932509), 775.87 MiB | 16.03 MiB/s\n",
      "  1>Receiving objects:  96% (900173/932509), 784.01 MiB | 15.86 MiB/s\n",
      "  1>Receiving objects:  97% (904534/932509), 784.01 MiB | 15.86 MiB/s\n",
      "  1>Receiving objects:  98% (913859/932509), 784.01 MiB | 15.86 MiB/s\n",
      "  1>Receiving objects:  99% (923184/932509), 784.01 MiB | 15.86 MiB/s\n",
      "  1>remote: Total 932509 (delta 775266), reused 932505 (delta 775266)\n",
      "  1>Receiving objects: 100% (932509/932509), 784.01 MiB | 15.86 MiB/s\n",
      "  1>Receiving objects: 100% (932509/932509), 791.30 MiB | 15.14 MiB/s, done.\n",
      "  1>Resolving deltas:   0% (0/775266)\n",
      "  1>Resolving deltas:   1% (7753/775266)\n",
      "  1>Resolving deltas:   2% (15506/775266)\n",
      "  1>Resolving deltas:   3% (23258/775266)\n",
      "  1>Resolving deltas:   4% (31011/775266)\n",
      "  1>Resolving deltas:   5% (38764/775266)\n",
      "  1>Resolving deltas:   6% (46516/775266)\n",
      "  1>Resolving deltas:   7% (54269/775266)\n",
      "  1>Resolving deltas:   8% (62022/775266)\n",
      "  1>Resolving deltas:   9% (69774/775266)\n",
      "  1>Resolving deltas:  10% (77527/775266)\n",
      "  1>Resolving deltas:  11% (85280/775266)\n",
      "  1>Resolving deltas:  12% (93032/775266)\n",
      "  1>Resolving deltas:  13% (100785/775266)\n",
      "  1>Resolving deltas:  14% (108538/775266)\n",
      "  1>Resolving deltas:  15% (116290/775266)\n",
      "  1>Resolving deltas:  16% (124043/775266)\n",
      "  1>Resolving deltas:  17% (131796/775266)\n",
      "  1>Resolving deltas:  17% (132280/775266)\n",
      "  1>Resolving deltas:  18% (139548/775266)\n",
      "  1>Resolving deltas:  19% (147301/775266)\n",
      "  1>Resolving deltas:  20% (155054/775266)\n",
      "  1>Resolving deltas:  21% (162806/775266)\n",
      "  1>Resolving deltas:  22% (170559/775266)\n",
      "  1>Resolving deltas:  23% (178312/775266)\n",
      "  1>Resolving deltas:  24% (186064/775266)\n",
      "  1>Resolving deltas:  25% (193817/775266)\n",
      "  1>Resolving deltas:  26% (201570/775266)\n",
      "  1>Resolving deltas:  27% (209322/775266)\n",
      "  1>Resolving deltas:  28% (217075/775266)\n",
      "  1>Resolving deltas:  28% (217472/775266)\n",
      "  1>Resolving deltas:  29% (224828/775266)\n",
      "  1>Resolving deltas:  30% (232580/775266)\n",
      "  1>Resolving deltas:  31% (240333/775266)\n",
      "  1>Resolving deltas:  32% (248086/775266)\n",
      "  1>Resolving deltas:  33% (255838/775266)\n",
      "  1>Resolving deltas:  34% (263591/775266)\n",
      "  1>Resolving deltas:  35% (271344/775266)\n",
      "  1>Resolving deltas:  36% (279096/775266)\n",
      "  1>Resolving deltas:  37% (286849/775266)\n",
      "  1>Resolving deltas:  38% (294602/775266)\n",
      "  1>Resolving deltas:  39% (302354/775266)\n",
      "  1>Resolving deltas:  40% (310107/775266)\n",
      "  1>Resolving deltas:  41% (317860/775266)\n",
      "  1>Resolving deltas:  42% (325612/775266)\n",
      "  1>Resolving deltas:  43% (333365/775266)\n",
      "  1>Resolving deltas:  43% (339806/775266)\n",
      "  1>Resolving deltas:  44% (341118/775266)\n",
      "  1>Resolving deltas:  45% (348870/775266)\n",
      "  1>Resolving deltas:  46% (356623/775266)\n",
      "  1>Resolving deltas:  47% (364376/775266)\n",
      "  1>Resolving deltas:  48% (372128/775266)\n",
      "  1>Resolving deltas:  49% (379881/775266)\n",
      "  1>Resolving deltas:  50% (387633/775266)\n",
      "  1>Resolving deltas:  51% (395386/775266)\n",
      "  1>Resolving deltas:  52% (403139/775266)\n",
      "  1>Resolving deltas:  53% (410891/775266)\n",
      "  1>Resolving deltas:  54% (418644/775266)\n",
      "  1>Resolving deltas:  54% (420909/775266)\n",
      "  1>Resolving deltas:  55% (426397/775266)\n",
      "  1>Resolving deltas:  56% (434149/775266)\n",
      "  1>Resolving deltas:  57% (441902/775266)\n",
      "  1>Resolving deltas:  57% (445435/775266)\n",
      "  1>Resolving deltas:  58% (449655/775266)\n",
      "  1>Resolving deltas:  59% (457407/775266)\n",
      "  1>Resolving deltas:  60% (465160/775266)\n",
      "  1>Resolving deltas:  61% (472913/775266)\n",
      "  1>Resolving deltas:  62% (480665/775266)\n",
      "  1>Resolving deltas:  63% (488418/775266)\n",
      "  1>Resolving deltas:  64% (496171/775266)\n",
      "  1>Resolving deltas:  65% (503923/775266)\n",
      "  1>Resolving deltas:  65% (507809/775266)\n",
      "  1>Resolving deltas:  66% (511676/775266)\n",
      "  1>Resolving deltas:  67% (519429/775266)\n",
      "  1>Resolving deltas:  68% (527181/775266)\n",
      "  1>Resolving deltas:  68% (534191/775266)\n",
      "  1>Resolving deltas:  69% (534934/775266)\n",
      "  1>Resolving deltas:  70% (542687/775266)\n",
      "  1>Resolving deltas:  71% (550439/775266)\n",
      "  1>Resolving deltas:  72% (558192/775266)\n",
      "  1>Resolving deltas:  72% (560701/775266)\n",
      "  1>Resolving deltas:  73% (565945/775266)\n",
      "  1>Resolving deltas:  73% (569544/775266)\n",
      "  1>Resolving deltas:  74% (573697/775266)\n",
      "  1>Resolving deltas:  75% (581450/775266)\n",
      "  1>Resolving deltas:  76% (589203/775266)\n",
      "  1>Resolving deltas:  77% (596955/775266)\n",
      "  1>Resolving deltas:  77% (597627/775266)\n",
      "  1>Resolving deltas:  77% (600374/775266)\n",
      "  1>Resolving deltas:  77% (602380/775266)\n",
      "  1>Resolving deltas:  78% (604708/775266)\n",
      "  1>Resolving deltas:  79% (612461/775266)\n",
      "  1>Resolving deltas:  79% (613426/775266)\n",
      "  1>Resolving deltas:  80% (620213/775266)\n",
      "  1>Resolving deltas:  81% (627966/775266)\n",
      "  1>Resolving deltas:  82% (635719/775266)\n",
      "  1>Resolving deltas:  83% (643471/775266)\n",
      "  1>Resolving deltas:  83% (647880/775266)\n",
      "  1>Resolving deltas:  84% (651224/775266)\n",
      "  1>Resolving deltas:  85% (658977/775266)\n",
      "  1>Resolving deltas:  86% (666729/775266)\n",
      "  1>Resolving deltas:  87% (674482/775266)\n",
      "  1>Resolving deltas:  87% (677566/775266)\n",
      "  1>Resolving deltas:  88% (682235/775266)\n",
      "  1>Resolving deltas:  89% (689987/775266)\n",
      "  1>Resolving deltas:  90% (697740/775266)\n",
      "  1>Resolving deltas:  90% (701073/775266)\n",
      "  1>Resolving deltas:  91% (705493/775266)\n",
      "  1>Resolving deltas:  91% (706592/775266)\n",
      "  1>Resolving deltas:  92% (713245/775266)\n",
      "  1>Resolving deltas:  92% (718843/775266)\n",
      "  1>Resolving deltas:  93% (720998/775266)\n",
      "  1>Resolving deltas:  94% (728751/775266)\n",
      "  1>Resolving deltas:  94% (735262/775266)\n",
      "  1>Resolving deltas:  95% (736503/775266)\n",
      "  1>Resolving deltas:  96% (744256/775266)\n",
      "  1>Resolving deltas:  96% (751925/775266)\n",
      "  1>Resolving deltas:  97% (752009/775266)\n",
      "  1>Resolving deltas:  98% (759761/775266)\n",
      "  1>Resolving deltas:  99% (767514/775266)\n",
      "  1>Resolving deltas:  99% (769720/775266)\n",
      "  1>Resolving deltas: 100% (775266/775266)\n",
      "  1>Resolving deltas: 100% (775266/775266), done.\n",
      "  [0:01:50] Still working on:"
     ]
    }
   ],
   "source": [
    "!pip install v8py "
   ]
  },
  {
   "cell_type": "markdown",
   "id": "db219c10-eb65-4c92-8077-42a7d925e4a9",
   "metadata": {},
   "source": [
    "## Extracting Academy Cinemas Data"
   ]
  },
  {
   "cell_type": "code",
   "execution_count": 3,
   "id": "a86338a0-1f2b-47ca-8028-9b6adeca794d",
   "metadata": {},
   "outputs": [],
   "source": [
    "# Request homepage\n",
    "page = requests.get('https://www.academycinemas.co.nz/#')\n",
    "# Parse HTML\n",
    "soup = bs4.BeautifulSoup(page.content)\n",
    "# Extract the script we need\n",
    "data = soup.find_all('script')[13].text[43:]"
   ]
  },
  {
   "cell_type": "code",
   "execution_count": 105,
   "id": "091ff5aa-4b29-4693-9046-3857a105c5a4",
   "metadata": {},
   "outputs": [],
   "source": [
    "context = js2py.EvalJs({})"
   ]
  },
  {
   "cell_type": "code",
   "execution_count": 106,
   "id": "25f6567c-ece3-4e6a-a53f-9f0675b209a7",
   "metadata": {},
   "outputs": [],
   "source": [
    "context.execute(data)"
   ]
  },
  {
   "cell_type": "code",
   "execution_count": 115,
   "id": "abbd4ea5-f234-425e-a79e-920428536fdd",
   "metadata": {},
   "outputs": [],
   "source": [
    "parsed_releases = context.movieData.to_dict()"
   ]
  },
  {
   "cell_type": "code",
   "execution_count": 119,
   "id": "c11a7841-64b0-44fa-9aa7-0172d8fb772d",
   "metadata": {
    "tags": []
   },
   "outputs": [
    {
     "data": {
      "application/json": {
       "2022-06-28": [
        {
         "actors": "Rory  Kinnear, Jessie Buckley, Paapa Essiedu",
         "director": "Alex Garland",
         "duration": "100 mins",
         "endpoint": "ST00004341",
         "image-landscape": "https://yc.cldmlk.com/efmm2z50m9vrkwmgyt4jv8j1r0/1648263402836_Poster.jpg",
         "image-portrait": "https://yc.cldmlk.com/efmm2z50m9vrkwmgyt4jv8j1r0/1653448884518_Poster.jpg",
         "rating": "Rated R16",
         "releaseDate": "2022-06-16",
         "times": [
          {
           "attributes": [],
           "bookingLink": "https://ticketing.oz.veezi.com/purchase/29795?siteToken&#x3D;v0auk7pklihk8hj1zv8c47d76o",
           "isSoldOut": false,
           "time": "6:00pm",
           "type": ""
          }
         ],
         "title": "Men",
         "url": "men"
        },
        {
         "actors": "James Rolleston, Rena Owen, Vinnie  Bennett, Miriama McDowell, Tioreore Ngatai-Melbourne",
         "director": "James Napier Robertson, Paula Whetu Jones",
         "duration": "112 mins",
         "endpoint": "ST00004407",
         "image-landscape": "https://yc.cldmlk.com/efmm2z50m9vrkwmgyt4jv8j1r0/1652669385783_Poster.jpg",
         "image-portrait": "https://yc.cldmlk.com/efmm2z50m9vrkwmgyt4jv8j1r0/1652669385386_Poster.jpg",
         "rating": "Rated PG",
         "releaseDate": "2022-06-23",
         "times": [
          {
           "attributes": [],
           "bookingLink": "https://ticketing.oz.veezi.com/purchase/29796?siteToken&#x3D;v0auk7pklihk8hj1zv8c47d76o",
           "isSoldOut": false,
           "time": "3:45pm",
           "type": ""
          }
         ],
         "title": "Whina",
         "url": "whina"
        },
        {
         "actors": "Burt Lancaster, Bruce Davison, Jorge Luke, Richard Jaeckel, Joaquin Martinez",
         "director": "Robert Aldrich",
         "duration": "105 mins",
         "endpoint": "ST00004449",
         "image-landscape": "https://yc.cldmlk.com/efmm2z50m9vrkwmgyt4jv8j1r0/1654910383756_Poster.jpg",
         "image-portrait": "https://yc.cldmlk.com/efmm2z50m9vrkwmgyt4jv8j1r0/1654910383257_Poster.jpg",
         "rating": "Rated PG",
         "releaseDate": "2022-06-28",
         "times": [
          {
           "attributes": [],
           "bookingLink": "https://ticketing.oz.veezi.com/purchase/29767?siteToken&#x3D;v0auk7pklihk8hj1zv8c47d76o",
           "isSoldOut": false,
           "time": "8:15pm",
           "type": ""
          }
         ],
         "title": "Lee Tamahori Selects: Ulzana&#x27;s Raid (1972)",
         "url": "film-talk-with-lee-tamahori-ulzanas-raid-1972"
        }
       ],
       "2022-06-29": [
        {
         "actors": "Anya  Taylor-Joy, Alexander Skarsgård, Björk , Nicole Kidman, Ethan Hawke, Willem Dafoe",
         "director": "Robert Eggers",
         "duration": "136 mins",
         "endpoint": "ST00004213",
         "image-landscape": "https://yc.cldmlk.com/efmm2z50m9vrkwmgyt4jv8j1r0/1640242273413_Poster.jpeg",
         "image-portrait": "https://yc.cldmlk.com/efmm2z50m9vrkwmgyt4jv8j1r0/1652514294304_Poster.jpg",
         "rating": "Rated R16",
         "releaseDate": "2022-05-19",
         "times": [
          {
           "attributes": [],
           "bookingLink": "https://ticketing.oz.veezi.com/purchase/29735?siteToken&#x3D;v0auk7pklihk8hj1zv8c47d76o",
           "isSoldOut": false,
           "time": "8:15pm",
           "type": ""
          }
         ],
         "title": "The Northman",
         "url": "the-northman"
        },
        {
         "actors": "Nathalie Baye, Lyna Khoudri, Pascale Arbillot",
         "director": "Sylvie Ohayon",
         "duration": "101 mins",
         "endpoint": "ST00004275",
         "image-landscape": "https://yc.cldmlk.com/efmm2z50m9vrkwmgyt4jv8j1r0/1645514038463_Poster.jpg",
         "image-portrait": "https://yc.cldmlk.com/efmm2z50m9vrkwmgyt4jv8j1r0/1650246299828_FINALHauteCouturePoster.png",
         "rating": "Rated M",
         "releaseDate": "2022-05-19",
         "times": [
          {
           "attributes": [],
           "bookingLink": "https://ticketing.oz.veezi.com/purchase/29800?siteToken&#x3D;v0auk7pklihk8hj1zv8c47d76o",
           "isSoldOut": false,
           "time": "12:30pm",
           "type": ""
          }
         ],
         "title": "Haute couture",
         "url": "haute-couture"
        },
        {
         "actors": "Jani Volanen, Sophia Heikkilä, Siiri Solalinna, Reino Nordin, Oiva Ollila",
         "director": "Hanna Bergholm",
         "duration": "91 mins",
         "endpoint": "ST00004295",
         "image-landscape": "https://yc.cldmlk.com/efmm2z50m9vrkwmgyt4jv8j1r0/1651294163048_Poster.jpg",
         "image-portrait": "https://yc.cldmlk.com/efmm2z50m9vrkwmgyt4jv8j1r0/1650781512600_Poster.png",
         "rating": "Rated R16",
         "releaseDate": "2022-06-02",
         "times": [
          {
           "attributes": [],
           "bookingLink": "https://ticketing.oz.veezi.com/purchase/29734?siteToken&#x3D;v0auk7pklihk8hj1zv8c47d76o",
           "isSoldOut": false,
           "time": "6:00pm",
           "type": ""
          }
         ],
         "title": "Hatching",
         "url": "hatching"
        },
        {
         "actors": "Michelle  Yeoh, Jenny Slate, Ke Huy Quan, Harry Shum Jr., Stephanie Hsu, Jamie Lee Curtis",
         "director": "Daniel  Scheinert, Daniel Kwan",
         "duration": "132 mins",
         "endpoint": "ST00004321",
         "image-landscape": "https://yc.cldmlk.com/efmm2z50m9vrkwmgyt4jv8j1r0/1647487569151_Poster.png",
         "image-portrait": "https://yc.cldmlk.com/efmm2z50m9vrkwmgyt4jv8j1r0/1648254471063_FINALaltEEAAOposter.png",
         "rating": "Rated R13",
         "releaseDate": "2022-04-14",
         "times": [
          {
           "attributes": [],
           "bookingLink": "https://ticketing.oz.veezi.com/purchase/29799?siteToken&#x3D;v0auk7pklihk8hj1zv8c47d76o",
           "isSoldOut": false,
           "time": "3:00pm",
           "type": ""
          }
         ],
         "title": "Everything Everywhere All at Once",
         "url": "everything-everywhere-all-at-once"
        }
       ],
       "2022-06-30": [
        {
         "actors": "Rory  Kinnear, Jessie Buckley, Paapa Essiedu",
         "director": "Alex Garland",
         "duration": "100 mins",
         "endpoint": "ST00004341",
         "image-landscape": "https://yc.cldmlk.com/efmm2z50m9vrkwmgyt4jv8j1r0/1648263402836_Poster.jpg",
         "image-portrait": "https://yc.cldmlk.com/efmm2z50m9vrkwmgyt4jv8j1r0/1653448884518_Poster.jpg",
         "rating": "Rated R16",
         "releaseDate": "2022-06-16",
         "times": [
          {
           "attributes": [],
           "bookingLink": "https://ticketing.oz.veezi.com/purchase/29812?siteToken&#x3D;v0auk7pklihk8hj1zv8c47d76o",
           "isSoldOut": false,
           "time": "8:20pm",
           "type": ""
          }
         ],
         "title": "Men",
         "url": "men"
        },
        {
         "actors": "Jemaine Clement, Jackie  van Beek, Damon Herriman, Roy Billing, Sarah Peirse, Jodie Rimmer",
         "director": "Armagan Ballantyne",
         "duration": "100 mins",
         "endpoint": "ST00004357",
         "image-landscape": "https://yc.cldmlk.com/efmm2z50m9vrkwmgyt4jv8j1r0/1650516237679_Poster.jpg",
         "image-portrait": "https://yc.cldmlk.com/efmm2z50m9vrkwmgyt4jv8j1r0/1653790988547_Poster.jpg",
         "rating": "Rated R16",
         "releaseDate": "2022-06-16",
         "times": [
          {
           "attributes": [],
           "bookingLink": "https://ticketing.oz.veezi.com/purchase/29813?siteToken&#x3D;v0auk7pklihk8hj1zv8c47d76o",
           "isSoldOut": false,
           "time": "3:45pm",
           "type": ""
          }
         ],
         "title": "Nude Tuesday",
         "url": "nude-tuesday"
        },
        {
         "actors": "James Rolleston, Rena Owen, Vinnie  Bennett, Miriama McDowell, Tioreore Ngatai-Melbourne",
         "director": "James Napier Robertson, Paula Whetu Jones",
         "duration": "112 mins",
         "endpoint": "ST00004407",
         "image-landscape": "https://yc.cldmlk.com/efmm2z50m9vrkwmgyt4jv8j1r0/1652669385783_Poster.jpg",
         "image-portrait": "https://yc.cldmlk.com/efmm2z50m9vrkwmgyt4jv8j1r0/1652669385386_Poster.jpg",
         "rating": "Rated PG",
         "releaseDate": "2022-06-23",
         "times": [
          {
           "attributes": [],
           "bookingLink": "https://ticketing.oz.veezi.com/purchase/29811?siteToken&#x3D;v0auk7pklihk8hj1zv8c47d76o",
           "isSoldOut": false,
           "time": "6:00pm",
           "type": ""
          }
         ],
         "title": "Whina",
         "url": "whina"
        }
       ],
       "2022-07-01": [
        {
         "actors": "Rory  Kinnear, Jessie Buckley, Paapa Essiedu",
         "director": "Alex Garland",
         "duration": "100 mins",
         "endpoint": "ST00004341",
         "image-landscape": "https://yc.cldmlk.com/efmm2z50m9vrkwmgyt4jv8j1r0/1648263402836_Poster.jpg",
         "image-portrait": "https://yc.cldmlk.com/efmm2z50m9vrkwmgyt4jv8j1r0/1653448884518_Poster.jpg",
         "rating": "Rated R16",
         "releaseDate": "2022-06-16",
         "times": [
          {
           "attributes": [],
           "bookingLink": "https://ticketing.oz.veezi.com/purchase/29817?siteToken&#x3D;v0auk7pklihk8hj1zv8c47d76o",
           "isSoldOut": false,
           "time": "3:45pm",
           "type": ""
          }
         ],
         "title": "Men",
         "url": "men"
        },
        {
         "actors": "James Rolleston, Rena Owen, Vinnie  Bennett, Miriama McDowell, Tioreore Ngatai-Melbourne",
         "director": "James Napier Robertson, Paula Whetu Jones",
         "duration": "112 mins",
         "endpoint": "ST00004407",
         "image-landscape": "https://yc.cldmlk.com/efmm2z50m9vrkwmgyt4jv8j1r0/1652669385783_Poster.jpg",
         "image-portrait": "https://yc.cldmlk.com/efmm2z50m9vrkwmgyt4jv8j1r0/1652669385386_Poster.jpg",
         "rating": "Rated PG",
         "releaseDate": "2022-06-23",
         "times": [
          {
           "attributes": [],
           "bookingLink": "https://ticketing.oz.veezi.com/purchase/29816?siteToken&#x3D;v0auk7pklihk8hj1zv8c47d76o",
           "isSoldOut": false,
           "time": "6:00pm",
           "type": ""
          }
         ],
         "title": "Whina",
         "url": "whina"
        },
        {
         "actors": "",
         "director": "",
         "duration": "150 mins",
         "endpoint": "ST00004429",
         "image-landscape": "https://yc.cldmlk.com/efmm2z50m9vrkwmgyt4jv8j1r0/1653448847444_Poster.jpg",
         "image-portrait": "https://yc.cldmlk.com/efmm2z50m9vrkwmgyt4jv8j1r0/1656283729819_Poster.jpg",
         "rating": "Rated TBC",
         "releaseDate": "2022-07-01",
         "times": [
          {
           "attributes": [],
           "bookingLink": "https://ticketing.oz.veezi.com/purchase/29711?siteToken&#x3D;v0auk7pklihk8hj1zv8c47d76o",
           "isSoldOut": false,
           "time": "8:30pm",
           "type": ""
          }
         ],
         "title": "NZ Vision Feast Film Festival 2022",
         "url": "nz-vision-feast-film-festival-2022"
        }
       ],
       "2022-07-02": [
        {
         "actors": "Rory  Kinnear, Jessie Buckley, Paapa Essiedu",
         "director": "Alex Garland",
         "duration": "100 mins",
         "endpoint": "ST00004341",
         "image-landscape": "https://yc.cldmlk.com/efmm2z50m9vrkwmgyt4jv8j1r0/1648263402836_Poster.jpg",
         "image-portrait": "https://yc.cldmlk.com/efmm2z50m9vrkwmgyt4jv8j1r0/1653448884518_Poster.jpg",
         "rating": "Rated R16",
         "releaseDate": "2022-06-16",
         "times": [
          {
           "attributes": [],
           "bookingLink": "https://ticketing.oz.veezi.com/purchase/29820?siteToken&#x3D;v0auk7pklihk8hj1zv8c47d76o",
           "isSoldOut": false,
           "time": "8:50pm",
           "type": ""
          }
         ],
         "title": "Men",
         "url": "men"
        },
        {
         "actors": "James Rolleston, Rena Owen, Vinnie  Bennett, Miriama McDowell, Tioreore Ngatai-Melbourne",
         "director": "James Napier Robertson, Paula Whetu Jones",
         "duration": "112 mins",
         "endpoint": "ST00004407",
         "image-landscape": "https://yc.cldmlk.com/efmm2z50m9vrkwmgyt4jv8j1r0/1652669385783_Poster.jpg",
         "image-portrait": "https://yc.cldmlk.com/efmm2z50m9vrkwmgyt4jv8j1r0/1652669385386_Poster.jpg",
         "rating": "Rated PG",
         "releaseDate": "2022-06-23",
         "times": [
          {
           "attributes": [],
           "bookingLink": "https://ticketing.oz.veezi.com/purchase/29819?siteToken&#x3D;v0auk7pklihk8hj1zv8c47d76o",
           "isSoldOut": false,
           "time": "6:30pm",
           "type": ""
          }
         ],
         "title": "Whina",
         "url": "whina"
        }
       ],
       "2022-07-03": [
        {
         "actors": "",
         "director": "",
         "duration": "120 mins",
         "endpoint": "ST00003525",
         "image-landscape": "https://yc.cldmlk.com/efmm2z50m9vrkwmgyt4jv8j1r0/1653448853187_Poster.jpg",
         "image-portrait": "https://yc.cldmlk.com/efmm2z50m9vrkwmgyt4jv8j1r0/1608859328212_Poster.jpg",
         "rating": "Rated PG",
         "releaseDate": "2022-07-03",
         "times": [
          {
           "attributes": [],
           "bookingLink": "https://ticketing.oz.veezi.com/purchase/29710?siteToken&#x3D;v0auk7pklihk8hj1zv8c47d76o",
           "isSoldOut": false,
           "time": "6:00pm",
           "type": ""
          }
         ],
         "title": "Members Free Mystery Screening",
         "url": "members-free-mystery-screening"
        },
        {
         "actors": "Rory  Kinnear, Jessie Buckley, Paapa Essiedu",
         "director": "Alex Garland",
         "duration": "100 mins",
         "endpoint": "ST00004341",
         "image-landscape": "https://yc.cldmlk.com/efmm2z50m9vrkwmgyt4jv8j1r0/1648263402836_Poster.jpg",
         "image-portrait": "https://yc.cldmlk.com/efmm2z50m9vrkwmgyt4jv8j1r0/1653448884518_Poster.jpg",
         "rating": "Rated R16",
         "releaseDate": "2022-06-16",
         "times": [
          {
           "attributes": [],
           "bookingLink": "https://ticketing.oz.veezi.com/purchase/29821?siteToken&#x3D;v0auk7pklihk8hj1zv8c47d76o",
           "isSoldOut": false,
           "time": "8:30pm",
           "type": ""
          }
         ],
         "title": "Men",
         "url": "men"
        },
        {
         "actors": "James Rolleston, Rena Owen, Vinnie  Bennett, Miriama McDowell, Tioreore Ngatai-Melbourne",
         "director": "James Napier Robertson, Paula Whetu Jones",
         "duration": "112 mins",
         "endpoint": "ST00004407",
         "image-landscape": "https://yc.cldmlk.com/efmm2z50m9vrkwmgyt4jv8j1r0/1652669385783_Poster.jpg",
         "image-portrait": "https://yc.cldmlk.com/efmm2z50m9vrkwmgyt4jv8j1r0/1652669385386_Poster.jpg",
         "rating": "Rated PG",
         "releaseDate": "2022-06-23",
         "times": [
          {
           "attributes": [],
           "bookingLink": "https://ticketing.oz.veezi.com/purchase/29822?siteToken&#x3D;v0auk7pklihk8hj1zv8c47d76o",
           "isSoldOut": false,
           "time": "3:30pm",
           "type": ""
          }
         ],
         "title": "Whina",
         "url": "whina"
        }
       ],
       "2022-07-04": [
        {
         "actors": "Rory  Kinnear, Jessie Buckley, Paapa Essiedu",
         "director": "Alex Garland",
         "duration": "100 mins",
         "endpoint": "ST00004341",
         "image-landscape": "https://yc.cldmlk.com/efmm2z50m9vrkwmgyt4jv8j1r0/1648263402836_Poster.jpg",
         "image-portrait": "https://yc.cldmlk.com/efmm2z50m9vrkwmgyt4jv8j1r0/1653448884518_Poster.jpg",
         "rating": "Rated R16",
         "releaseDate": "2022-06-16",
         "times": [
          {
           "attributes": [],
           "bookingLink": "https://ticketing.oz.veezi.com/purchase/29826?siteToken&#x3D;v0auk7pklihk8hj1zv8c47d76o",
           "isSoldOut": false,
           "time": "3:45pm",
           "type": ""
          }
         ],
         "title": "Men",
         "url": "men"
        },
        {
         "actors": "",
         "director": "",
         "duration": "105 mins",
         "endpoint": "ST00004347",
         "image-landscape": "https://yc.cldmlk.com/efmm2z50m9vrkwmgyt4jv8j1r0/1648606824046_Poster.png",
         "image-portrait": "https://yc.cldmlk.com/efmm2z50m9vrkwmgyt4jv8j1r0/1648606823454_Poster.jpg",
         "rating": "Rated M",
         "releaseDate": "2022-07-04",
         "times": [
          {
           "attributes": [],
           "bookingLink": "https://ticketing.oz.veezi.com/purchase/29487?siteToken&#x3D;v0auk7pklihk8hj1zv8c47d76o",
           "isSoldOut": false,
           "time": "6:15pm",
           "type": ""
          }
         ],
         "title": "AFS: A Fantastic Woman",
         "url": "afs-a-fantastic-woman"
        },
        {
         "actors": "Jemaine Clement, Jackie  van Beek, Damon Herriman, Roy Billing, Sarah Peirse, Jodie Rimmer",
         "director": "Armagan Ballantyne",
         "duration": "100 mins",
         "endpoint": "ST00004357",
         "image-landscape": "https://yc.cldmlk.com/efmm2z50m9vrkwmgyt4jv8j1r0/1650516237679_Poster.jpg",
         "image-portrait": "https://yc.cldmlk.com/efmm2z50m9vrkwmgyt4jv8j1r0/1653790988547_Poster.jpg",
         "rating": "Rated R16",
         "releaseDate": "2022-06-16",
         "times": [
          {
           "attributes": [],
           "bookingLink": "https://ticketing.oz.veezi.com/purchase/29827?siteToken&#x3D;v0auk7pklihk8hj1zv8c47d76o",
           "isSoldOut": false,
           "time": "1:30pm",
           "type": ""
          }
         ],
         "title": "Nude Tuesday",
         "url": "nude-tuesday"
        },
        {
         "actors": "James Rolleston, Rena Owen, Vinnie  Bennett, Miriama McDowell, Tioreore Ngatai-Melbourne",
         "director": "James Napier Robertson, Paula Whetu Jones",
         "duration": "112 mins",
         "endpoint": "ST00004407",
         "image-landscape": "https://yc.cldmlk.com/efmm2z50m9vrkwmgyt4jv8j1r0/1652669385783_Poster.jpg",
         "image-portrait": "https://yc.cldmlk.com/efmm2z50m9vrkwmgyt4jv8j1r0/1652669385386_Poster.jpg",
         "rating": "Rated PG",
         "releaseDate": "2022-06-23",
         "times": [
          {
           "attributes": [],
           "bookingLink": "https://ticketing.oz.veezi.com/purchase/29825?siteToken&#x3D;v0auk7pklihk8hj1zv8c47d76o",
           "isSoldOut": false,
           "time": "8:20pm",
           "type": ""
          }
         ],
         "title": "Whina",
         "url": "whina"
        }
       ],
       "2022-07-05": [
        {
         "actors": "Rory  Kinnear, Jessie Buckley, Paapa Essiedu",
         "director": "Alex Garland",
         "duration": "100 mins",
         "endpoint": "ST00004341",
         "image-landscape": "https://yc.cldmlk.com/efmm2z50m9vrkwmgyt4jv8j1r0/1648263402836_Poster.jpg",
         "image-portrait": "https://yc.cldmlk.com/efmm2z50m9vrkwmgyt4jv8j1r0/1653448884518_Poster.jpg",
         "rating": "Rated R16",
         "releaseDate": "2022-06-16",
         "times": [
          {
           "attributes": [],
           "bookingLink": "https://ticketing.oz.veezi.com/purchase/29832?siteToken&#x3D;v0auk7pklihk8hj1zv8c47d76o",
           "isSoldOut": false,
           "time": "9:00pm",
           "type": ""
          }
         ],
         "title": "Men",
         "url": "men"
        },
        {
         "actors": "Jemaine Clement, Jackie  van Beek, Damon Herriman, Roy Billing, Sarah Peirse, Jodie Rimmer",
         "director": "Armagan Ballantyne",
         "duration": "100 mins",
         "endpoint": "ST00004357",
         "image-landscape": "https://yc.cldmlk.com/efmm2z50m9vrkwmgyt4jv8j1r0/1650516237679_Poster.jpg",
         "image-portrait": "https://yc.cldmlk.com/efmm2z50m9vrkwmgyt4jv8j1r0/1653790988547_Poster.jpg",
         "rating": "Rated R16",
         "releaseDate": "2022-06-16",
         "times": [
          {
           "attributes": [],
           "bookingLink": "https://ticketing.oz.veezi.com/purchase/29830?siteToken&#x3D;v0auk7pklihk8hj1zv8c47d76o",
           "isSoldOut": false,
           "time": "4:25pm",
           "type": ""
          }
         ],
         "title": "Nude Tuesday",
         "url": "nude-tuesday"
        },
        {
         "actors": "Leon Lucev, Danica Curcic, Jonas Smulders, Gracija Filipovic, Niksa Butijer, Mislav Cavajda, Cliff Curtis",
         "director": "Antoneta Alamat Kusijanovic",
         "duration": "96 mins",
         "endpoint": "ST00004359",
         "image-landscape": "https://yc.cldmlk.com/efmm2z50m9vrkwmgyt4jv8j1r0/1650516239753_Poster.jpg",
         "image-portrait": "https://yc.cldmlk.com/efmm2z50m9vrkwmgyt4jv8j1r0/1652827754105_FINALMurinaposterjune2022.jpg",
         "rating": "Rated M",
         "releaseDate": "2022-06-09",
         "times": [
          {
           "attributes": [],
           "bookingLink": "https://ticketing.oz.veezi.com/purchase/29828?siteToken&#x3D;v0auk7pklihk8hj1zv8c47d76o",
           "isSoldOut": false,
           "time": "12:00pm",
           "type": ""
          }
         ],
         "title": "Murina",
         "url": "ST00004359-murina"
        },
        {
         "actors": "James Rolleston, Rena Owen, Vinnie  Bennett, Miriama McDowell, Tioreore Ngatai-Melbourne",
         "director": "James Napier Robertson, Paula Whetu Jones",
         "duration": "112 mins",
         "endpoint": "ST00004407",
         "image-landscape": "https://yc.cldmlk.com/efmm2z50m9vrkwmgyt4jv8j1r0/1652669385783_Poster.jpg",
         "image-portrait": "https://yc.cldmlk.com/efmm2z50m9vrkwmgyt4jv8j1r0/1652669385386_Poster.jpg",
         "rating": "Rated PG",
         "releaseDate": "2022-06-23",
         "times": [
          {
           "attributes": [],
           "bookingLink": "https://ticketing.oz.veezi.com/purchase/29829?siteToken&#x3D;v0auk7pklihk8hj1zv8c47d76o",
           "isSoldOut": false,
           "time": "2:10pm",
           "type": ""
          },
          {
           "attributes": [],
           "bookingLink": "https://ticketing.oz.veezi.com/purchase/29831?siteToken&#x3D;v0auk7pklihk8hj1zv8c47d76o",
           "isSoldOut": false,
           "time": "6:35pm",
           "type": ""
          }
         ],
         "title": "Whina",
         "url": "whina"
        }
       ],
       "2022-07-06": [
        {
         "actors": "Anya  Taylor-Joy, Alexander Skarsgård, Björk , Nicole Kidman, Ethan Hawke, Willem Dafoe",
         "director": "Robert Eggers",
         "duration": "136 mins",
         "endpoint": "ST00004213",
         "image-landscape": "https://yc.cldmlk.com/efmm2z50m9vrkwmgyt4jv8j1r0/1640242273413_Poster.jpeg",
         "image-portrait": "https://yc.cldmlk.com/efmm2z50m9vrkwmgyt4jv8j1r0/1652514294304_Poster.jpg",
         "rating": "Rated R16",
         "releaseDate": "2022-05-19",
         "times": [
          {
           "attributes": [],
           "bookingLink": "https://ticketing.oz.veezi.com/purchase/29805?siteToken&#x3D;v0auk7pklihk8hj1zv8c47d76o",
           "isSoldOut": false,
           "time": "3:00pm",
           "type": ""
          }
         ],
         "title": "The Northman",
         "url": "the-northman"
        },
        {
         "actors": "Michelle  Yeoh, Jenny Slate, Ke Huy Quan, Harry Shum Jr., Stephanie Hsu, Jamie Lee Curtis",
         "director": "Daniel  Scheinert, Daniel Kwan",
         "duration": "132 mins",
         "endpoint": "ST00004321",
         "image-landscape": "https://yc.cldmlk.com/efmm2z50m9vrkwmgyt4jv8j1r0/1647487569151_Poster.png",
         "image-portrait": "https://yc.cldmlk.com/efmm2z50m9vrkwmgyt4jv8j1r0/1648254471063_FINALaltEEAAOposter.png",
         "rating": "Rated R13",
         "releaseDate": "2022-04-14",
         "times": [
          {
           "attributes": [],
           "bookingLink": "https://ticketing.oz.veezi.com/purchase/29806?siteToken&#x3D;v0auk7pklihk8hj1zv8c47d76o",
           "isSoldOut": false,
           "time": "12:00pm",
           "type": ""
          }
         ],
         "title": "Everything Everywhere All at Once",
         "url": "everything-everywhere-all-at-once"
        },
        {
         "actors": "Miles Teller, Jon Hamm, Glen Powell, Lewis Pullman, Jay Ellis, Charles Parnell, Bashir Salahuddin, Monica Barbaro, Danny Ramirez, Greg Tarzan Davis, Tom Cruise, Ed Harris, Jennifer Connelly, Val Kilmer",
         "director": "Joseph Kosinski",
         "duration": "130 mins",
         "endpoint": "ST00004435",
         "image-landscape": "https://yc.cldmlk.com/efmm2z50m9vrkwmgyt4jv8j1r0/1654488824863_Poster.png",
         "image-portrait": "https://yc.cldmlk.com/efmm2z50m9vrkwmgyt4jv8j1r0/1654488824198_Poster.jpg",
         "rating": "Rated M",
         "releaseDate": "2022-07-06",
         "times": [
          {
           "attributes": [],
           "bookingLink": "https://ticketing.oz.veezi.com/purchase/29737?siteToken&#x3D;v0auk7pklihk8hj1zv8c47d76o",
           "isSoldOut": false,
           "time": "6:00pm",
           "type": ""
          },
          {
           "attributes": [],
           "bookingLink": "https://ticketing.oz.veezi.com/purchase/29739?siteToken&#x3D;v0auk7pklihk8hj1zv8c47d76o",
           "isSoldOut": false,
           "time": "8:45pm",
           "type": ""
          }
         ],
         "title": "Top Gun: Maverick",
         "url": "top-gun-maverick"
        }
       ],
       "2022-07-07": [
        {
         "actors": "Jeremy Irvine, Peter Capaldi, Jack  Lowden, Edmund Kingsley, Harry Lawtey, Calam Lynch, Kate Phillips",
         "director": "Terence Davies",
         "duration": "137 mins",
         "endpoint": "ST00004281",
         "image-landscape": "https://yc.cldmlk.com/efmm2z50m9vrkwmgyt4jv8j1r0/1651972242824_Poster.jpg",
         "image-portrait": "https://yc.cldmlk.com/efmm2z50m9vrkwmgyt4jv8j1r0/1651972242039_Poster.jpg",
         "rating": "Rated M",
         "releaseDate": "2022-07-07",
         "times": [
          {
           "attributes": [],
           "bookingLink": "https://ticketing.oz.veezi.com/purchase/29833?siteToken&#x3D;v0auk7pklihk8hj1zv8c47d76o",
           "isSoldOut": false,
           "time": "6:00pm",
           "type": ""
          }
         ],
         "title": "Benediction",
         "url": "benediction"
        }
       ],
       "2022-07-08": [
        {
         "actors": "Nikolai Burlyayev, Valentin Zubkov, Evgeny Zharikov, Valentina Malyavina",
         "director": "Andrei Tarkovsky",
         "duration": "95 mins",
         "endpoint": "ST00004437",
         "image-landscape": "https://yc.cldmlk.com/efmm2z50m9vrkwmgyt4jv8j1r0/1654748540136_Poster.jpg",
         "image-portrait": "https://yc.cldmlk.com/efmm2z50m9vrkwmgyt4jv8j1r0/1654748539481_Poster.jpg",
         "rating": "Rated PG",
         "releaseDate": "2022-07-08",
         "times": [
          {
           "attributes": [],
           "bookingLink": "https://ticketing.oz.veezi.com/purchase/29740?siteToken&#x3D;v0auk7pklihk8hj1zv8c47d76o",
           "isSoldOut": false,
           "time": "6:30pm",
           "type": ""
          }
         ],
         "title": "Ivan&#x27;s Childhood (1962) 60th Anniversary",
         "url": "ivans-childhood-1962-60th-anniversary"
        }
       ],
       "2022-07-11": [
        {
         "actors": "",
         "director": "",
         "duration": "162 mins",
         "endpoint": "ST00004349",
         "image-landscape": "https://yc.cldmlk.com/efmm2z50m9vrkwmgyt4jv8j1r0/1648606828996_Poster.jpg",
         "image-portrait": "https://yc.cldmlk.com/efmm2z50m9vrkwmgyt4jv8j1r0/1648606828587_Poster.jpg",
         "rating": "Rated R16",
         "releaseDate": "2022-07-11",
         "times": [
          {
           "attributes": [],
           "bookingLink": "https://ticketing.oz.veezi.com/purchase/29488?siteToken&#x3D;v0auk7pklihk8hj1zv8c47d76o",
           "isSoldOut": false,
           "time": "6:00pm",
           "type": ""
          }
         ],
         "title": "AFS: American Honey",
         "url": "afs-american-honey"
        }
       ],
       "2022-07-13": [
        {
         "actors": "Patrick Magee, Michael Bates, Warren Clarke, Malcolm McDowell",
         "director": "Stanley Kubrick",
         "duration": "137 mins",
         "endpoint": "ST00004433",
         "image-landscape": "https://yc.cldmlk.com/efmm2z50m9vrkwmgyt4jv8j1r0/1654482328172_Poster.jpg",
         "image-portrait": "https://yc.cldmlk.com/efmm2z50m9vrkwmgyt4jv8j1r0/1654482327633_Poster.jpg",
         "rating": "Rated R18",
         "releaseDate": "2022-07-13",
         "times": [
          {
           "attributes": [],
           "bookingLink": "https://ticketing.oz.veezi.com/purchase/29736?siteToken&#x3D;v0auk7pklihk8hj1zv8c47d76o",
           "isSoldOut": false,
           "time": "8:15pm",
           "type": ""
          }
         ],
         "title": "A Clockwork Orange (1971)",
         "url": "a-clockwork-orange-1971"
        }
       ],
       "2022-07-14": [
        {
         "actors": "Keith David, Yuriko  Ishida, Kaoru Kobayashi, Tsunehiko Kamijô, Eriko Ando, Yoshiaki Arai, Naoya Fujimaki, Eiji Kato, Yoshimasa Kondô, Billy Bob Thornton, Jada Pinkett-Smith, Claire Danes, Billy Crudup, Minnie Driver, Gillian Anderson",
         "director": "Hayao Miyazaki",
         "duration": "134 mins",
         "endpoint": "ST00004421",
         "image-landscape": "https://yc.cldmlk.com/efmm2z50m9vrkwmgyt4jv8j1r0/1653404456949_Poster.jpg",
         "image-portrait": "https://yc.cldmlk.com/efmm2z50m9vrkwmgyt4jv8j1r0/1653404456198_Poster.jpeg",
         "rating": "Rated M",
         "releaseDate": "2022-07-14",
         "times": [
          {
           "attributes": [
            {
             "_id": "62ba1deace9e486e6de290b7",
             "description": "Japanese Language with English Subtitles",
             "shortName": "Japanese"
            }
           ],
           "bookingLink": "https://ticketing.oz.veezi.com/purchase/29709?siteToken&#x3D;v0auk7pklihk8hj1zv8c47d76o",
           "isSoldOut": false,
           "time": "6:00pm",
           "type": ""
          }
         ],
         "title": "Princess Mononoke (1997) 25th Anniversary",
         "url": "princess-mononoke-1997-25th-anniversary"
        }
       ],
       "2022-07-15": [
        {
         "actors": "Keith David, Yuriko  Ishida, Kaoru Kobayashi, Tsunehiko Kamijô, Eriko Ando, Yoshiaki Arai, Naoya Fujimaki, Eiji Kato, Yoshimasa Kondô, Billy Bob Thornton, Jada Pinkett-Smith, Claire Danes, Billy Crudup, Minnie Driver, Gillian Anderson",
         "director": "Hayao Miyazaki",
         "duration": "134 mins",
         "endpoint": "ST00004421",
         "image-landscape": "https://yc.cldmlk.com/efmm2z50m9vrkwmgyt4jv8j1r0/1653404456949_Poster.jpg",
         "image-portrait": "https://yc.cldmlk.com/efmm2z50m9vrkwmgyt4jv8j1r0/1653404456198_Poster.jpeg",
         "rating": "Rated M",
         "releaseDate": "2022-07-14",
         "times": [
          {
           "attributes": [
            {
             "_id": "62ba1deace9e486e6de290b5",
             "description": "Japanese Language with English Subtitles",
             "shortName": "Japanese"
            }
           ],
           "bookingLink": "https://ticketing.oz.veezi.com/purchase/29839?siteToken&#x3D;v0auk7pklihk8hj1zv8c47d76o",
           "isSoldOut": false,
           "time": "8:40pm",
           "type": ""
          }
         ],
         "title": "Princess Mononoke (1997) 25th Anniversary",
         "url": "princess-mononoke-1997-25th-anniversary"
        },
        {
         "actors": "Toshiro Mifune, Eijirō Tōno, Tatsuya Nakadai, Seizaburo Kawazu",
         "director": "Akira Kurosawa",
         "duration": "110 mins",
         "endpoint": "ST00004439",
         "image-landscape": "https://yc.cldmlk.com/efmm2z50m9vrkwmgyt4jv8j1r0/1655357112079_Poster.jpg",
         "image-portrait": "https://yc.cldmlk.com/efmm2z50m9vrkwmgyt4jv8j1r0/1655357111587_Poster.jpg",
         "rating": "Rated M",
         "releaseDate": "2022-07-15",
         "times": [
          {
           "attributes": [],
           "bookingLink": "https://ticketing.oz.veezi.com/purchase/29741?siteToken&#x3D;v0auk7pklihk8hj1zv8c47d76o",
           "isSoldOut": false,
           "time": "6:15pm",
           "type": ""
          }
         ],
         "title": "Yojimbo (1961)",
         "url": "yojimbo-1961"
        }
       ],
       "2022-07-16": [
        {
         "actors": "Keith David, Yuriko  Ishida, Kaoru Kobayashi, Tsunehiko Kamijô, Eriko Ando, Yoshiaki Arai, Naoya Fujimaki, Eiji Kato, Yoshimasa Kondô, Billy Bob Thornton, Jada Pinkett-Smith, Claire Danes, Billy Crudup, Minnie Driver, Gillian Anderson",
         "director": "Hayao Miyazaki",
         "duration": "134 mins",
         "endpoint": "ST00004421",
         "image-landscape": "https://yc.cldmlk.com/efmm2z50m9vrkwmgyt4jv8j1r0/1653404456949_Poster.jpg",
         "image-portrait": "https://yc.cldmlk.com/efmm2z50m9vrkwmgyt4jv8j1r0/1653404456198_Poster.jpeg",
         "rating": "Rated M",
         "releaseDate": "2022-07-14",
         "times": [
          {
           "attributes": [
            {
             "_id": "62ba1deace9e486e6de290b3",
             "description": "English Language No Subtitles",
             "shortName": "English"
            }
           ],
           "bookingLink": "https://ticketing.oz.veezi.com/purchase/29840?siteToken&#x3D;v0auk7pklihk8hj1zv8c47d76o",
           "isSoldOut": false,
           "time": "3:00pm",
           "type": ""
          }
         ],
         "title": "Princess Mononoke (1997) 25th Anniversary",
         "url": "princess-mononoke-1997-25th-anniversary"
        },
        {
         "actors": "Jun Kunimura, Eihi Shiina, Ryo Ishibashi, Tetsu Sawaki",
         "director": "Takashi Miike",
         "duration": "115 mins",
         "endpoint": "ST00004451",
         "image-landscape": "https://yc.cldmlk.com/efmm2z50m9vrkwmgyt4jv8j1r0/1655357126934_Poster.jpg",
         "image-portrait": "https://yc.cldmlk.com/efmm2z50m9vrkwmgyt4jv8j1r0/1655357126583_Poster.jpg",
         "rating": "Rated R18",
         "releaseDate": "2022-07-16",
         "times": [
          {
           "attributes": [],
           "bookingLink": "https://ticketing.oz.veezi.com/purchase/29769?siteToken&#x3D;v0auk7pklihk8hj1zv8c47d76o",
           "isSoldOut": false,
           "time": "8:30pm",
           "type": ""
          }
         ],
         "title": "Audition (1999)",
         "url": "audition-2000"
        }
       ],
       "2022-07-17": [
        {
         "actors": "",
         "director": "",
         "duration": "108 mins",
         "endpoint": "ST00004461",
         "image-landscape": "https://yc.cldmlk.com/efmm2z50m9vrkwmgyt4jv8j1r0/1655357144208_Poster.png",
         "image-portrait": "https://yc.cldmlk.com/efmm2z50m9vrkwmgyt4jv8j1r0/1655357143331_Poster.png",
         "rating": "Rated PG",
         "releaseDate": "2022-07-17",
         "times": [
          {
           "attributes": [],
           "bookingLink": "https://ticketing.oz.veezi.com/purchase/29771?siteToken&#x3D;v0auk7pklihk8hj1zv8c47d76o",
           "isSoldOut": false,
           "time": "10:00am",
           "type": ""
          }
         ],
         "title": "Lithuanian FF: A Butterfly&#x27;s Heart",
         "url": "lithuanian-ff-a-butterflys-heart"
        },
        {
         "actors": "",
         "director": "",
         "duration": "96 mins",
         "endpoint": "ST00004469",
         "image-landscape": "https://yc.cldmlk.com/efmm2z50m9vrkwmgyt4jv8j1r0/1655716784273_Poster.jpg",
         "image-portrait": "https://yc.cldmlk.com/efmm2z50m9vrkwmgyt4jv8j1r0/1655716783857_Poster.jpg",
         "rating": "Rated Exempt",
         "releaseDate": "2022-07-17",
         "times": [
          {
           "attributes": [],
           "bookingLink": "https://ticketing.oz.veezi.com/purchase/29807?siteToken&#x3D;v0auk7pklihk8hj1zv8c47d76o",
           "isSoldOut": false,
           "time": "12:00pm",
           "type": ""
          }
         ],
         "title": "LithuanianFF Ukraine Fundraiser: Mariupolis (2016)",
         "url": "lithuanianff-ukraine-fundraiser-mariupolis-2016"
        },
        {
         "actors": "",
         "director": "",
         "duration": "90 mins",
         "endpoint": "ST00004471",
         "image-landscape": "https://yc.cldmlk.com/efmm2z50m9vrkwmgyt4jv8j1r0/1655716786688_Poster.jpg",
         "image-portrait": "https://yc.cldmlk.com/efmm2z50m9vrkwmgyt4jv8j1r0/1655716786300_Poster.jpg",
         "rating": "Rated Exempt",
         "releaseDate": "2022-07-17",
         "times": [
          {
           "attributes": [],
           "bookingLink": "https://ticketing.oz.veezi.com/purchase/29808?siteToken&#x3D;v0auk7pklihk8hj1zv8c47d76o",
           "isSoldOut": false,
           "time": "2:00pm",
           "type": ""
          }
         ],
         "title": "Lithuanian FF: Jonas Mekas 100! Celebration",
         "url": "lithuanian-ff-jonas-mekas-100-celebration"
        },
        {
         "actors": "",
         "director": "",
         "duration": "92 mins",
         "endpoint": "ST00004477",
         "image-landscape": "https://yc.cldmlk.com/efmm2z50m9vrkwmgyt4jv8j1r0/1656283782988_Poster.jpg",
         "image-portrait": "https://yc.cldmlk.com/efmm2z50m9vrkwmgyt4jv8j1r0/1656283782476_Poster.jpg",
         "rating": "Rated M",
         "releaseDate": "2022-07-17",
         "times": [
          {
           "attributes": [],
           "bookingLink": "https://ticketing.oz.veezi.com/purchase/29838?siteToken&#x3D;v0auk7pklihk8hj1zv8c47d76o",
           "isSoldOut": false,
           "time": "5:00pm",
           "type": ""
          }
         ],
         "title": "Lithuanian FF: Pilgrims",
         "url": "lithuanian-ff-pilgrims"
        }
       ],
       "2022-07-19": [
        {
         "actors": "Nobuko Otowa, Jitsuko Yoshimura, Kei Satō, Taiji Tonoyama",
         "director": "Kaneto Shindo",
         "duration": "102 mins",
         "endpoint": "ST00004441",
         "image-landscape": "https://yc.cldmlk.com/efmm2z50m9vrkwmgyt4jv8j1r0/1655357114849_Poster.jpg",
         "image-portrait": "https://yc.cldmlk.com/efmm2z50m9vrkwmgyt4jv8j1r0/1655357114369_Poster.jpg",
         "rating": "Rated R16",
         "releaseDate": "2022-07-19",
         "times": [
          {
           "attributes": [],
           "bookingLink": "https://ticketing.oz.veezi.com/purchase/29742?siteToken&#x3D;v0auk7pklihk8hj1zv8c47d76o",
           "isSoldOut": false,
           "time": "6:30pm",
           "type": ""
          }
         ],
         "title": "Onibaba (1964)",
         "url": "onibaba-1964"
        }
       ],
       "2022-07-20": [
        {
         "actors": "Omar Sy, Laura Dern, Sam Neill, Chris Pratt, Jake Johnson, Scott Haze, BD Wong, Mamoudou Athie, Isabella Sermon, Dichen Lachman, DeWanda Wise, Daniella Pineda, Justice Smith, Campbell Scott, Jeff Goldblum, Bryce Dallas Howard",
         "director": "Colin Trevorrow",
         "duration": "147 mins",
         "endpoint": "ST00004465",
         "image-landscape": "https://yc.cldmlk.com/efmm2z50m9vrkwmgyt4jv8j1r0/1655693728302_Poster.jpg",
         "image-portrait": "https://yc.cldmlk.com/efmm2z50m9vrkwmgyt4jv8j1r0/1655693727943_Poster.jpg",
         "rating": "Rated M",
         "releaseDate": "2022-07-20",
         "times": [
          {
           "attributes": [],
           "bookingLink": "https://ticketing.oz.veezi.com/purchase/29802?siteToken&#x3D;v0auk7pklihk8hj1zv8c47d76o",
           "isSoldOut": false,
           "time": "8:15pm",
           "type": ""
          }
         ],
         "title": "Jurassic World: Dominion",
         "url": "jurassic-world-dominion"
        }
       ],
       "2022-07-21": [
        {
         "actors": "Harris  Dickinson, Taylor  John Smith, Michael  Hyatt, Garret Dillahunt, Daisy Edgar-Jones, Ahna O&#x27;Reilly, Jayson Warner Smith, Calvin Williams, Sterling Macer Jr., Jojo Regina, David Strathairn",
         "director": "Olivia Newman",
         "duration": "125 mins",
         "endpoint": "ST00004415",
         "image-landscape": "https://yc.cldmlk.com/efmm2z50m9vrkwmgyt4jv8j1r0/1653273718119_Poster.jpg",
         "image-portrait": "https://yc.cldmlk.com/efmm2z50m9vrkwmgyt4jv8j1r0/1653273717634_Poster.jpg",
         "rating": "Rated TBC",
         "releaseDate": "2022-07-21",
         "times": [
          {
           "attributes": [],
           "bookingLink": "https://ticketing.oz.veezi.com/purchase/29809?siteToken&#x3D;v0auk7pklihk8hj1zv8c47d76o",
           "isSoldOut": false,
           "time": "6:00pm",
           "type": ""
          }
         ],
         "title": "Where The Crawdads Sing",
         "url": "where-the-crawdads-sing"
        }
       ],
       "2022-07-22": [
        {
         "actors": "Tōru Emori, Yoshiaki Umegaki, Aya Okamoto, Satomi Koorogi",
         "director": "Satoshi Kon",
         "duration": "92 mins",
         "endpoint": "ST00004455",
         "image-landscape": "https://yc.cldmlk.com/efmm2z50m9vrkwmgyt4jv8j1r0/1655357131699_Poster.jpg",
         "image-portrait": "https://yc.cldmlk.com/efmm2z50m9vrkwmgyt4jv8j1r0/1655357131252_Poster.jpg",
         "rating": "Rated M",
         "releaseDate": "2022-07-22",
         "times": [
          {
           "attributes": [],
           "bookingLink": "https://ticketing.oz.veezi.com/purchase/29770?siteToken&#x3D;v0auk7pklihk8hj1zv8c47d76o",
           "isSoldOut": false,
           "time": "8:30pm",
           "type": ""
          }
         ],
         "title": "Tokyo Godfathers (2003)",
         "url": "tokyo-godfathers-2003"
        }
       ],
       "2022-07-23": [
        {
         "actors": "Kôji   Yakusho, Masato Hagiwara, Tsuyoshi Ujiki, Anna Nakagawa",
         "director": "Kiyoshi Kurosawa",
         "duration": "111 mins",
         "endpoint": "ST00004443",
         "image-landscape": "https://yc.cldmlk.com/efmm2z50m9vrkwmgyt4jv8j1r0/1655357117344_Poster.jpg",
         "image-portrait": "https://yc.cldmlk.com/efmm2z50m9vrkwmgyt4jv8j1r0/1655357116971_Poster.jpg",
         "rating": "Rated R16",
         "releaseDate": "2022-07-23",
         "times": [
          {
           "attributes": [],
           "bookingLink": "https://ticketing.oz.veezi.com/purchase/29743?siteToken&#x3D;v0auk7pklihk8hj1zv8c47d76o",
           "isSoldOut": false,
           "time": "8:30pm",
           "type": ""
          }
         ],
         "title": "Cure (1997) 25th Anniversary",
         "url": "cure-1997-25th-anniversary"
        }
       ],
       "2022-07-24": [
        {
         "actors": "",
         "director": "",
         "duration": "120 mins",
         "endpoint": "ST00004457",
         "image-landscape": "https://yc.cldmlk.com/efmm2z50m9vrkwmgyt4jv8j1r0/1655357135833_Poster.png",
         "image-portrait": "https://yc.cldmlk.com/efmm2z50m9vrkwmgyt4jv8j1r0/1655357134842_Poster.png",
         "rating": "Rated Exempt",
         "releaseDate": "2022-07-24",
         "times": [
          {
           "attributes": [],
           "bookingLink": "https://ticketing.oz.veezi.com/purchase/29744?siteToken&#x3D;v0auk7pklihk8hj1zv8c47d76o",
           "isSoldOut": false,
           "time": "3:00pm",
           "type": ""
          }
         ],
         "title": "Walk With Me - The Series",
         "url": "walk-with-me---the-series"
        }
       ],
       "2022-07-25": [
        {
         "actors": "Machiko Kyō, Mitsuko Mito, Kinuyo Tanaka, Masayuki Mori",
         "director": "Kenji Mizoguchi",
         "duration": "97 mins",
         "endpoint": "ST00004447",
         "image-landscape": "https://yc.cldmlk.com/efmm2z50m9vrkwmgyt4jv8j1r0/1655357122408_Poster.jpg",
         "image-portrait": "https://yc.cldmlk.com/efmm2z50m9vrkwmgyt4jv8j1r0/1655357121977_Poster.jpg",
         "rating": "Rated PG",
         "releaseDate": "2022-07-25",
         "times": [
          {
           "attributes": [],
           "bookingLink": "https://ticketing.oz.veezi.com/purchase/29746?siteToken&#x3D;v0auk7pklihk8hj1zv8c47d76o",
           "isSoldOut": false,
           "time": "6:30pm",
           "type": ""
          }
         ],
         "title": "Ugetsu (1953)",
         "url": "ugetsu-1953"
        }
       ],
       "2022-07-26": [
        {
         "actors": "Tim Blake  Nelson, John Goodman, John Turturro, George Clooney, Holly Hunter",
         "director": "Joel Coen, Ethan Coen",
         "duration": "107 mins",
         "endpoint": "ST00004463",
         "image-landscape": "https://yc.cldmlk.com/efmm2z50m9vrkwmgyt4jv8j1r0/1655521293573_Poster.jpg",
         "image-portrait": "https://yc.cldmlk.com/efmm2z50m9vrkwmgyt4jv8j1r0/1655521293227_Poster.jpg",
         "rating": "Rated M",
         "releaseDate": "2022-07-26",
         "times": [
          {
           "attributes": [],
           "bookingLink": "https://ticketing.oz.veezi.com/purchase/29801?siteToken&#x3D;v0auk7pklihk8hj1zv8c47d76o",
           "isSoldOut": false,
           "time": "8:15pm",
           "type": ""
          }
         ],
         "title": "Film Industry Selects: O Brother, Where Art Tho?",
         "url": "film-industry-selects-o-brother-where-art-tho"
        }
       ],
       "2022-07-29": [
        {
         "actors": "Tatsuya Fujiwara, Aki Maeda, Tarō Yamamoto, Takeshi Kitano, Chiaki Kuriyama",
         "director": "Kinji Fukasaku",
         "duration": "112 mins",
         "endpoint": "ST00004453",
         "image-landscape": "https://yc.cldmlk.com/efmm2z50m9vrkwmgyt4jv8j1r0/1655357129246_Poster.jpg",
         "image-portrait": "https://yc.cldmlk.com/efmm2z50m9vrkwmgyt4jv8j1r0/1655357128900_Poster.jpg",
         "rating": "Rated R18",
         "releaseDate": "2022-07-29",
         "times": [
          {
           "attributes": [],
           "bookingLink": "https://ticketing.oz.veezi.com/purchase/29768?siteToken&#x3D;v0auk7pklihk8hj1zv8c47d76o",
           "isSoldOut": false,
           "time": "8:30pm",
           "type": ""
          }
         ],
         "title": "Battle Royale (2000)",
         "url": "battle-royale-2000"
        }
       ],
       "2022-07-31": [
        {
         "actors": "Chishū Ryū, Setsuko Hara, Yumeji Tsukioka, Haruko Sugimura",
         "director": "Yasujiro Ozu",
         "duration": "108 mins",
         "endpoint": "ST00004445",
         "image-landscape": "https://yc.cldmlk.com/efmm2z50m9vrkwmgyt4jv8j1r0/1655357119883_Poster.jpg",
         "image-portrait": "https://yc.cldmlk.com/efmm2z50m9vrkwmgyt4jv8j1r0/1655357119390_Poster.jpg",
         "rating": "Rated G",
         "releaseDate": "2022-07-31",
         "times": [
          {
           "attributes": [],
           "bookingLink": "https://ticketing.oz.veezi.com/purchase/29772?siteToken&#x3D;v0auk7pklihk8hj1zv8c47d76o",
           "isSoldOut": false,
           "time": "6:00pm",
           "type": ""
          }
         ],
         "title": "Late Spring (1949)",
         "url": "late-spring-1949"
        }
       ],
       "2022-08-10": [
        {
         "actors": "Wendy Makkena, Kathy Najimy, Whoopi Goldberg, Maggie Smith, Harvey Keitel",
         "director": "Emile Ardolino",
         "duration": "100 mins",
         "endpoint": "ST00004467",
         "image-landscape": "https://yc.cldmlk.com/efmm2z50m9vrkwmgyt4jv8j1r0/1655693731920_Poster.png",
         "image-portrait": "https://yc.cldmlk.com/efmm2z50m9vrkwmgyt4jv8j1r0/1655693730832_Poster.png",
         "rating": "Rated PG",
         "releaseDate": "2022-08-10",
         "times": [
          {
           "attributes": [],
           "bookingLink": "https://ticketing.oz.veezi.com/purchase/29804?siteToken&#x3D;v0auk7pklihk8hj1zv8c47d76o",
           "isSoldOut": false,
           "time": "6:15pm",
           "type": ""
          }
         ],
         "title": "Sister Act (1992) 30th Anniversary",
         "url": "sister-act-1992-30th-anniversary"
        }
       ],
       "2022-08-11": [
        {
         "actors": "Yuriy Borisov, Dinara Drukarova, Seidi Haarla, Yuliya  Aug",
         "director": "Juho Kuosmanen",
         "duration": "107 mins",
         "endpoint": "ST00004293",
         "image-landscape": "https://yc.cldmlk.com/efmm2z50m9vrkwmgyt4jv8j1r0/1645654978303_Poster.jpg",
         "image-portrait": "https://yc.cldmlk.com/efmm2z50m9vrkwmgyt4jv8j1r0/1645654977761_Poster.jpg",
         "rating": "Rated M",
         "releaseDate": "2022-08-11",
         "times": [
          {
           "attributes": [],
           "bookingLink": "https://ticketing.oz.veezi.com/purchase/29836?siteToken&#x3D;v0auk7pklihk8hj1zv8c47d76o",
           "isSoldOut": false,
           "time": "6:00pm",
           "type": ""
          }
         ],
         "title": "Compartment No. 6",
         "url": "compartment-no-6"
        },
        {
         "actors": "Daniel Kaluuya, Keke Palmer, Steven Yeun, Michael Wincott, Brandon Perea",
         "director": "Jordan  Peele",
         "duration": "135 mins",
         "endpoint": "ST00004297",
         "image-landscape": "https://yc.cldmlk.com/efmm2z50m9vrkwmgyt4jv8j1r0/1646235726992_Poster.jpg",
         "image-portrait": "https://yc.cldmlk.com/efmm2z50m9vrkwmgyt4jv8j1r0/1655183192703_Poster.jpg",
         "rating": "Rated TBC",
         "releaseDate": "2022-08-11",
         "times": [
          {
           "attributes": [],
           "bookingLink": "https://ticketing.oz.veezi.com/purchase/29837?siteToken&#x3D;v0auk7pklihk8hj1zv8c47d76o",
           "isSoldOut": false,
           "time": "8:20pm",
           "type": ""
          }
         ],
         "title": "Nope",
         "url": "nope"
        }
       ],
       "2022-08-22": [
        {
         "actors": "",
         "director": "",
         "duration": "108 mins",
         "endpoint": "ST00004369",
         "image-landscape": "https://yc.cldmlk.com/efmm2z50m9vrkwmgyt4jv8j1r0/1650865749787_Poster.png",
         "image-portrait": "https://yc.cldmlk.com/efmm2z50m9vrkwmgyt4jv8j1r0/1650865749225_Poster.jpg",
         "rating": "Rated Exempt",
         "releaseDate": "2022-08-22",
         "times": [
          {
           "attributes": [],
           "bookingLink": "https://ticketing.oz.veezi.com/purchase/29585?siteToken&#x3D;v0auk7pklihk8hj1zv8c47d76o",
           "isSoldOut": false,
           "time": "6:15pm",
           "type": ""
          }
         ],
         "title": "AFS: Under Snow",
         "url": "afs-under-snow"
        }
       ],
       "2022-08-29": [
        {
         "actors": "",
         "director": "",
         "duration": "129 mins",
         "endpoint": "ST00004411",
         "image-landscape": "https://yc.cldmlk.com/efmm2z50m9vrkwmgyt4jv8j1r0/1652676232852_Poster.jpg",
         "image-portrait": "https://yc.cldmlk.com/efmm2z50m9vrkwmgyt4jv8j1r0/1652676232492_Poster.jpg",
         "rating": "Rated Exempt",
         "releaseDate": "2022-08-29",
         "times": [
          {
           "attributes": [],
           "bookingLink": "https://ticketing.oz.veezi.com/purchase/29667?siteToken&#x3D;v0auk7pklihk8hj1zv8c47d76o",
           "isSoldOut": false,
           "time": "6:15pm",
           "type": ""
          }
         ],
         "title": "AFS: Paris Calligrammes",
         "url": "afs-paris-calligrammes"
        }
       ],
       "2022-08-30": [
        {
         "actors": "",
         "director": "",
         "duration": "127 mins",
         "endpoint": "ST00004413",
         "image-landscape": "https://yc.cldmlk.com/efmm2z50m9vrkwmgyt4jv8j1r0/1652676235521_Poster.jpg",
         "image-portrait": "https://yc.cldmlk.com/efmm2z50m9vrkwmgyt4jv8j1r0/1652676235071_Poster.jpg",
         "rating": "Rated PG",
         "releaseDate": "2022-08-30",
         "times": [
          {
           "attributes": [],
           "bookingLink": "https://ticketing.oz.veezi.com/purchase/29668?siteToken&#x3D;v0auk7pklihk8hj1zv8c47d76o",
           "isSoldOut": false,
           "time": "6:15pm",
           "type": ""
          }
         ],
         "title": "AFS: Z",
         "url": "ST00004413-afs-z"
        }
       ],
       "2022-09-05": [
        {
         "actors": "",
         "director": "",
         "duration": "94 mins",
         "endpoint": "ST00004417",
         "image-landscape": "https://yc.cldmlk.com/efmm2z50m9vrkwmgyt4jv8j1r0/1653309627857_Poster.png",
         "image-portrait": "https://yc.cldmlk.com/efmm2z50m9vrkwmgyt4jv8j1r0/1653309626917_Poster.jpg",
         "rating": "Rated M",
         "releaseDate": "2022-09-05",
         "times": [
          {
           "attributes": [],
           "bookingLink": "https://ticketing.oz.veezi.com/purchase/29707?siteToken&#x3D;v0auk7pklihk8hj1zv8c47d76o",
           "isSoldOut": false,
           "time": "6:15pm",
           "type": ""
          }
         ],
         "title": "AFS: Rafiki",
         "url": "afs-rafiki"
        }
       ],
       "2022-09-12": [
        {
         "actors": "",
         "director": "",
         "duration": "75 mins",
         "endpoint": "ST00004473",
         "image-landscape": "https://yc.cldmlk.com/efmm2z50m9vrkwmgyt4jv8j1r0/1656045118844_Poster.jpg",
         "image-portrait": "https://yc.cldmlk.com/efmm2z50m9vrkwmgyt4jv8j1r0/1656045118469_Poster.jpg",
         "rating": "Rated PG",
         "releaseDate": "2022-09-12",
         "times": [
          {
           "attributes": [],
           "bookingLink": "https://ticketing.oz.veezi.com/purchase/29834?siteToken&#x3D;v0auk7pklihk8hj1zv8c47d76o",
           "isSoldOut": false,
           "time": "6:15pm",
           "type": ""
          }
         ],
         "title": "AFS: Pickpocket",
         "url": "afs-pickpocket"
        }
       ],
       "2022-09-19": [
        {
         "actors": "",
         "director": "",
         "duration": "94 mins",
         "endpoint": "ST00004475",
         "image-landscape": "https://yc.cldmlk.com/efmm2z50m9vrkwmgyt4jv8j1r0/1656045121371_Poster.jpg",
         "image-portrait": "https://yc.cldmlk.com/efmm2z50m9vrkwmgyt4jv8j1r0/1656045121002_Poster.jpg",
         "rating": "Rated M",
         "releaseDate": "2022-09-19",
         "times": [
          {
           "attributes": [],
           "bookingLink": "https://ticketing.oz.veezi.com/purchase/29835?siteToken&#x3D;v0auk7pklihk8hj1zv8c47d76o",
           "isSoldOut": false,
           "time": "6:15pm",
           "type": ""
          }
         ],
         "title": "AFS: Lamb",
         "url": "afs-lamb"
        }
       ]
      },
      "text/plain": [
       "<IPython.core.display.JSON object>"
      ]
     },
     "execution_count": 119,
     "metadata": {
      "application/json": {
       "expanded": false,
       "root": "root"
      }
     },
     "output_type": "execute_result"
    }
   ],
   "source": [
    "JSON(parsed_releases)"
   ]
  },
  {
   "cell_type": "markdown",
   "id": "84c1a30e-6875-4bc9-9d8c-88c24d433cdd",
   "metadata": {},
   "source": [
    "---"
   ]
  },
  {
   "cell_type": "markdown",
   "id": "9cb505eb-85e5-4c44-be4f-996de6d47cd1",
   "metadata": {},
   "source": [
    "### Building a Calendar"
   ]
  },
  {
   "cell_type": "code",
   "execution_count": 149,
   "id": "335637d2-9a9e-46c3-b8dd-d92151786ef6",
   "metadata": {},
   "outputs": [],
   "source": [
    "from ics import Calendar, Event\n",
    "from datetime import datetime, timedelta, timezone\n",
    "import pytz"
   ]
  },
  {
   "cell_type": "code",
   "execution_count": 133,
   "id": "330a9ad5-87ee-4871-a409-a3bfa50464e8",
   "metadata": {},
   "outputs": [
    {
     "data": {
      "text/plain": [
       "datetime.datetime(2022, 6, 16, 6, 0)"
      ]
     },
     "execution_count": 133,
     "metadata": {},
     "output_type": "execute_result"
    }
   ],
   "source": [
    "datetime.strptime(\"2022-06-16 6:00pm\", \"%Y-%m-%d %H:%M%p\")"
   ]
  },
  {
   "cell_type": "code",
   "execution_count": 163,
   "id": "36d4df0b-7b5a-4719-8a7f-0ec5846cdf55",
   "metadata": {},
   "outputs": [],
   "source": [
    "timezone = pytz.timezone('Pacific/Auckland')"
   ]
  },
  {
   "cell_type": "code",
   "execution_count": 179,
   "id": "76f77b2a-6331-4894-9bb5-825d79b1e17e",
   "metadata": {},
   "outputs": [],
   "source": [
    "def build_calendar(parsed_releases):\n",
    "    cal = Calendar()\n",
    "    \n",
    "    for date, films in parsed_releases.items():\n",
    "        for film in films:\n",
    "            for time in film['times']:\n",
    "                #print(film)\n",
    "                start_time = datetime.strptime(f\"{date} {time['time']}\", \"%Y-%m-%d %H:%M%p\")\n",
    "                start_time.replace(tzinfo=timezone)\n",
    "                duration = timedelta(minutes=int(film['duration'][:-5]))\n",
    "                event = Event(\n",
    "                    name=film['title'],\n",
    "                    begin=start_time,\n",
    "                    end=f\"{start_time + duration}\",\n",
    "                    location=f\"Academy Cinemas\", # todo\n",
    "                    url=time['bookingLink'],\n",
    "                    categories=[f\"FILM\"],\n",
    "                    description=time['bookingLink']\n",
    "                )\n",
    "                cal.events.add(event)\n",
    "                \n",
    "                #return cal\n",
    "\n",
    "    return cal\n",
    "\n",
    "cal = build_calendar(parsed_releases)"
   ]
  },
  {
   "cell_type": "code",
   "execution_count": 180,
   "id": "d3b1e0da-1934-4da0-b4ab-7f35e6d3ace0",
   "metadata": {},
   "outputs": [
    {
     "data": {
      "text/plain": [
       "<Event 'Whina' begin:2022-06-30T06:00:00+00:00 end:2022-06-30T07:52:00+00:00>"
      ]
     },
     "execution_count": 180,
     "metadata": {},
     "output_type": "execute_result"
    }
   ],
   "source": [
    "next(iter(cal.events))"
   ]
  },
  {
   "cell_type": "code",
   "execution_count": 181,
   "id": "43b2ee5d-a10c-410f-9e38-b0520143d33d",
   "metadata": {},
   "outputs": [
    {
     "name": "stdout",
     "output_type": "stream",
     "text": [
      "2022-06-30 19:52:00+12:00\n"
     ]
    }
   ],
   "source": [
    "print(next(iter(cal.events)).end.astimezone(timezone))"
   ]
  },
  {
   "cell_type": "code",
   "execution_count": 182,
   "id": "7f5e977b-5dc0-459e-81ef-9bd81ea88e86",
   "metadata": {},
   "outputs": [],
   "source": [
    "with open('academy_test_calendar.ics', 'w') as f:\n",
    "    f.write(str(cal))"
   ]
  },
  {
   "cell_type": "code",
   "execution_count": null,
   "id": "c5a06312-be72-4303-8f4e-f7b28549b08e",
   "metadata": {},
   "outputs": [],
   "source": []
  }
 ],
 "metadata": {
  "kernelspec": {
   "display_name": "Python 3",
   "language": "python",
   "name": "python3"
  },
  "language_info": {
   "codemirror_mode": {
    "name": "ipython",
    "version": 3
   },
   "file_extension": ".py",
   "mimetype": "text/x-python",
   "name": "python",
   "nbconvert_exporter": "python",
   "pygments_lexer": "ipython3",
   "version": "3.8.5"
  }
 },
 "nbformat": 4,
 "nbformat_minor": 5
}
